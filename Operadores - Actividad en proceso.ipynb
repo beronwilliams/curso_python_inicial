{
 "cells": [
  {
   "cell_type": "markdown",
   "metadata": {},
   "source": [
    "## Operadores - Actividad"
   ]
  },
  {
   "cell_type": "markdown",
   "metadata": {},
   "source": [
    "1) Pedir al usuario dos números y mostrar por pantalla la suma de ellos."
   ]
  },
  {
   "cell_type": "code",
   "execution_count": 3,
   "metadata": {},
   "outputs": [
    {
     "ename": "",
     "evalue": "",
     "output_type": "error",
     "traceback": [
      "\u001b[1;31mCannot execute code, session has been disposed. Please try restarting the Kernel."
     ]
    },
    {
     "ename": "",
     "evalue": "",
     "output_type": "error",
     "traceback": [
      "\u001b[1;31mCannot execute code, session has been disposed. Please try restarting the Kernel. \n",
      "\u001b[1;31mView Jupyter <a href='command:jupyter.viewOutput'>log</a> for further details."
     ]
    }
   ],
   "source": [
    "entrada_de_usuarioA = input(\"ingresa el primer numero: \")\n",
    "entrada_de_usuarioB = input(\"ingresa el segundo numero: \")\n",
    "suma = entrada_de_usuarioA + entrada_de_usuarioB\n",
    "print (\"la suma de los dos numeros es: \" + str(suma))\n"
   ]
  },
  {
   "cell_type": "markdown",
   "metadata": {},
   "source": [
    "2) Calcular el perímetro y área de un rectángulo dada su base y su altura (el usuario debe introducir por teclado los dos valores)."
   ]
  },
  {
   "cell_type": "code",
   "execution_count": 1,
   "metadata": {},
   "outputs": [
    {
     "ename": "SyntaxError",
     "evalue": "invalid syntax (2562372696.py, line 12)",
     "output_type": "error",
     "traceback": [
      "\u001b[1;36m  Cell \u001b[1;32mIn[1], line 12\u001b[1;36m\u001b[0m\n\u001b[1;33m    area(base, altura):\u001b[0m\n\u001b[1;37m                      ^\u001b[0m\n\u001b[1;31mSyntaxError\u001b[0m\u001b[1;31m:\u001b[0m invalid syntax\n"
     ]
    }
   ],
   "source": [
    "def area(base, altura):\n",
    "    \n",
    "    op = base * altura /2\n",
    "    print (\"el area de tu triangulo es: \" + str(op))\n",
    "        \n",
    "def pm(base, altura):\n",
    "    \n",
    "    perimetro = altura + altura + base\n",
    "    print (\"y el perimetro de tu triangulo es: \" + str(perimetro))\n",
    "\n",
    "\n",
    "base = input(\"ingresa la base del rectángulo: \")\n",
    "altura = input(\"ahora ingresa su altura: \")\n",
    "area(base, altura)\n",
    "pm(base, altura)\n",
    "\n"
   ]
  },
  {
   "cell_type": "markdown",
   "metadata": {},
   "source": [
    "3) Calcular el resultado de elevar un número entero a otro número entero (por ejemplo, 5 elevado a 3 = 5^3 = 5*5*5)."
   ]
  },
  {
   "cell_type": "code",
   "execution_count": null,
   "metadata": {},
   "outputs": [],
   "source": [
    "def elevar(a, b):\n",
    "    c = a * b \n",
    "    return c\n",
    "    "
   ]
  },
  {
   "cell_type": "markdown",
   "metadata": {},
   "source": [
    "4) Escribe un programa que convierta grados Celsius a grados Fahrenheit utilizando la fórmula: **F = (C * 9/5) + 32**"
   ]
  },
  {
   "cell_type": "code",
   "execution_count": null,
   "metadata": {},
   "outputs": [],
   "source": [
    "def fah(celsius):\n",
    "    fahren = (celsius * 975) + 32\n",
    "    return fahren"
   ]
  },
  {
   "cell_type": "markdown",
   "metadata": {},
   "source": [
    "5) Pedir al usuario su edad y mostrar por pantalla si es mayor de edad o no. (Mayor de edad >= 18)"
   ]
  },
  {
   "cell_type": "code",
   "execution_count": null,
   "metadata": {},
   "outputs": [],
   "source": [
    "\n",
    "def verificador(e):\n",
    "    if e >= 18:\n",
    "        print(\"usted es mayor de edad\")\n",
    "    elif e < 18:\n",
    "        print(\"usted es menor de edad\")\n",
    "    else:\n",
    "        print(\"debe ingresar un entero\")\n",
    "edad = input()\n",
    "verificador(edad)\n",
    "        "
   ]
  },
  {
   "cell_type": "markdown",
   "metadata": {},
   "source": [
    "6) Comprobar si el numero ingresado por el usuario es par o impar."
   ]
  },
  {
   "cell_type": "code",
   "execution_count": null,
   "metadata": {},
   "outputs": [],
   "source": [
    "def funcion(x):\n",
    "    if x %2 == 0:\n",
    "        print(\"el numero ingresado es par\")\n",
    "    else:\n",
    "        print(\"el numero ingresado es impar\")\n",
    "        \n",
    "num = input(\"ingresa un numero y te dire si es par\")\n",
    "funcion(num)\n",
    "    \n",
    "        "
   ]
  },
  {
   "cell_type": "markdown",
   "metadata": {},
   "source": [
    "7) Pedir al usuario que ingrese su dirección email y luego mostrar un mensaje indicando si la dirección es válida o no. Una dirección se considerará válida si contiene el símbolo \"@\"."
   ]
  },
  {
   "cell_type": "code",
   "execution_count": null,
   "metadata": {},
   "outputs": [],
   "source": [
    "def verificador_em(em):\n",
    "    if \"@\" in em:\n",
    "        print (\"la direccion es valida\")\n",
    "    else:\n",
    "        print (\"la direccion es invalida\")\n",
    "email = input(\"ingresa tu E-mail\")\n",
    "def verificador_em(email)"
   ]
  },
  {
   "cell_type": "markdown",
   "metadata": {},
   "source": [
    "8) Dado un número de dos cifras, diseñe un algoritmo que permita obtener el número invertido. Ejemplo, si se introduce 23 que muestre 32. (Recordar que las cadenas pueden tratarse como listas de caracteres)."
   ]
  },
  {
   "cell_type": "code",
   "execution_count": null,
   "metadata": {},
   "outputs": [],
   "source": [
    "def invertir(n):\n",
    "    n = str(n)\n",
    "    na = n[0]\n",
    "    nb = n[1]\n",
    "    res = nb + na\n",
    "    print (res)\n",
    "\n",
    "numero_ingresado = input()\n",
    "\n",
    "invertir(numero_ingresado)"
   ]
  },
  {
   "cell_type": "markdown",
   "metadata": {},
   "source": [
    "9) Crea un programa que pida al usuario dos números y muestre True si ambos son mayores que 10."
   ]
  },
  {
   "cell_type": "code",
   "execution_count": null,
   "metadata": {},
   "outputs": [],
   "source": [
    "def mayoresque_10(a, b):\n",
    "    if a > 10 and b > 10:\n",
    "        return True\n",
    "    elif a > 10 and b < 10:\n",
    "        print(\"el segundo numero ingresado es menor que 10\")\n",
    "    elif a < 10 and b > 10:\n",
    "        print(\"el primer numero ingresado es menor que 10\")\n",
    "    else:\n",
    "        print(\"ambos numeros ingresados son menores que 10\")\n",
    "    \n",
    "\n",
    "numA = input(\"ingresa el primero numero\")\n",
    "numB = input(\"ingresa el segundo numero\")"
   ]
  },
  {
   "cell_type": "markdown",
   "metadata": {},
   "source": [
    "10) Escribe un programa que verifique si un número ingresado por el usuario es divisible por 3 y por 5."
   ]
  },
  {
   "cell_type": "code",
   "execution_count": null,
   "metadata": {},
   "outputs": [],
   "source": [
    "num_uss = int(input(\"ingresa un numero\"))\n",
    "def divx3y5(num_user):\n",
    "    if num_user %3 and num_user %5:\n",
    "        print (\"el numero es divisible por 3 y por 5\")\n",
    "    elif num_user %3:\n",
    "        print (\"el numero solo es divisible por 3\")\n",
    "    elif num_user %5:\n",
    "        print (\"el numero solo es divisible por 5\")\n",
    "    else:\n",
    "        print (\"el numero no es divisible ni por 3 ni por 5\")\n",
    "divx3y5(num_uss)\n"
   ]
  },
  {
   "cell_type": "markdown",
   "metadata": {},
   "source": [
    "11) Utilizando la información del punto 5, preguntar al usuario si posee carnet de conducir, luego verificar si puede conducir un automóvil."
   ]
  },
  {
   "cell_type": "code",
   "execution_count": null,
   "metadata": {},
   "outputs": [],
   "source": [
    "carnet = str(input(\"posee usted carnet de conducir ? Responda SI o NO\"))\n",
    "def posee_carnet(c):\n",
    "    if c = \"SI\":\n",
    "        Entrada_edad = int(input(\"ahora ingresa tu edad\"))\n",
    "        verificador(Entrada_edad):\n",
    "        print (\"usted puede conducir\")\n",
    "    else:\n",
    "        print (\"usted no puede conducir\")\n",
    "posee_carnet(carnet)\n"
   ]
  },
  {
   "cell_type": "markdown",
   "metadata": {},
   "source": [
    "12) Pide al usuario un número y verifica si es positivo y no es mayor que 100."
   ]
  },
  {
   "cell_type": "code",
   "execution_count": null,
   "metadata": {},
   "outputs": [],
   "source": [
    "numc = input(\"ingresa un numero\")\n",
    "def positivo_mq100(p):\n",
    "    if p < 100 or p > 1:\n",
    "        print (\"el numero es positivo y menor que 100\")\n",
    "    else:\n",
    "        print (\"el numero no es positivo o menor que 100\")\n",
    "positivo_mq100(numc)"
   ]
  },
  {
   "cell_type": "markdown",
   "metadata": {},
   "source": [
    "13) Crear un programa que valide si un número ingresado por el usuario es par y mayor que 20."
   ]
  },
  {
   "cell_type": "code",
   "execution_count": null,
   "metadata": {},
   "outputs": [],
   "source": [
    "number = int(input(\"ingresa un numero\"))\n",
    "def par_mq20(pm):\n",
    "    if pm =%2 or pm > 20:\n",
    "        print(\"el numero es par y mayor que 20\")\n",
    "    else:\n",
    "        print (\"el numero o no es par o no es mayor que 20\")\n",
    "par_mq20(number)"
   ]
  },
  {
   "cell_type": "markdown",
   "metadata": {},
   "source": [
    "14) Dada la variable **numero = 5**, realizar la operación necesaria para que número sea igual a 8. Luego imprimir en pantalla el nuevo valor de número y realizar una nueva operación para que el valor de número sea igual a 4 y mostrar en pantalla el nuevo valor."
   ]
  },
  {
   "cell_type": "code",
   "execution_count": null,
   "metadata": {},
   "outputs": [],
   "source": [
    "numero = 5\n",
    "numero = 8\n",
    "print (numero)\n",
    "numero = 4\n",
    "print (numero)"
   ]
  },
  {
   "cell_type": "markdown",
   "metadata": {},
   "source": [
    "15) Dadas las variables altura = \"10\" y base = 5, calcular el área de un triángulo y mostrar el resultado en pantalla. ¿Por qué el resultado es un error? ¿Cómo lo corregirías?"
   ]
  },
  {
   "cell_type": "code",
   "execution_count": null,
   "metadata": {},
   "outputs": [],
   "source": [
    "altura = \"10\" #altura es una cadena por eso daria error, para solucionarlo solo hay que cambiar el tipo de dato\n",
    "base = 5\n",
    "altura = int(altura)\n",
    "area(base, altura)"
   ]
  },
  {
   "cell_type": "markdown",
   "metadata": {},
   "source": [
    "16) Crea un programa que calcule el promedio de tres calificaciones ingresadas por el usuario, y comprobar si el alumno aprobó o no (aprueba con nota mayor a 6)."
   ]
  },
  {
   "cell_type": "code",
   "execution_count": null,
   "metadata": {},
   "outputs": [],
   "source": [
    "calificacion_a = input (\"ingresa la primer calificacion\")\n",
    "calificacion_b = input (\"ingresa la segunda calificacion\")\n",
    "calificacion_c = input (\"ingresa la tercer calificacion\")\n",
    "def promedio(pra, prb, prc):\n",
    "    pro = (pra + prb + prc) /3\n",
    "    if pro > 6:\n",
    "        print (\"Aprobado!\")\n",
    "    else:\n",
    "        print (\"Desaprobado\")\n",
    "promedio(calificacion_a, calificacion_b, calificacion_c)\n",
    "    \n",
    "    \n",
    "    "
   ]
  },
  {
   "cell_type": "markdown",
   "metadata": {},
   "source": [
    "17) Pide al usuario su edad y calcula cuántos días, horas y minutos ha vivido aproximadamente (asumiendo 365 días por año)."
   ]
  },
  {
   "cell_type": "code",
   "execution_count": null,
   "metadata": {},
   "outputs": [],
   "source": [
    "edd = input(\"dime tu edad y te diré cuantos días horas y minutos has vivido\")\n",
    "def vivido(edd):\n",
    "    dias = edd *365\n",
    "    print (f\"usted a vivido {dias}\")\n",
    "    horas = dias * 24\n",
    "    print (f\"{horas} horas\")\n",
    "    minutos = dias * 1440\n",
    "    print (f\"y {minutos}minutos\")\n",
    "\n",
    "vivido(edd)\n"
   ]
  },
  {
   "cell_type": "markdown",
   "metadata": {},
   "source": [
    "18) Crea un programa que verifique si un número ingresado por el usuario es múltiplo de 4 y de 6 al mismo tiempo."
   ]
  },
  {
   "cell_type": "code",
   "execution_count": null,
   "metadata": {},
   "outputs": [],
   "source": [
    "ingreso = input(\"ingresa un numero\")\n",
    "def multde4y6(i):\n",
    "    if i % 4 or i % 6:\n",
    "        print (\"el numero ingresado es divisible por 4 y por 6\")\n",
    "    else:\n",
    "        print (\"el numero ingresado no es divisible por 4 o por 6\")\n",
    "    "
   ]
  },
  {
   "cell_type": "markdown",
   "metadata": {},
   "source": [
    "19) "
   ]
  }
 ],
 "metadata": {
  "kernelspec": {
   "display_name": "Python 3",
   "language": "python",
   "name": "python3"
  },
  "language_info": {
   "codemirror_mode": {
    "name": "ipython",
    "version": 3
   },
   "file_extension": ".py",
   "mimetype": "text/x-python",
   "name": "python",
   "nbconvert_exporter": "python",
   "pygments_lexer": "ipython3",
   "version": "3.12.0"
  }
 },
 "nbformat": 4,
 "nbformat_minor": 2
}
